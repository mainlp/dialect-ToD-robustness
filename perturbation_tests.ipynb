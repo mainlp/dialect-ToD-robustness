{
 "cells": [
  {
   "cell_type": "code",
   "execution_count": 1,
   "id": "728183b5",
   "metadata": {},
   "outputs": [],
   "source": [
    "!rm -rf CharSplit"
   ]
  },
  {
   "cell_type": "code",
   "execution_count": 2,
   "id": "467af3b6-8a2a-4eb5-9667-1142e5a035bc",
   "metadata": {},
   "outputs": [
    {
     "name": "stderr",
     "output_type": "stream",
     "text": [
      "2024-02-21 17:56:07 INFO: Checking for updates to resources.json in case models have been updated.  Note: this behavior can be turned off with download_method=None or download_method=DownloadMethod.REUSE_RESOURCES\n"
     ]
    },
    {
     "data": {
      "application/json": {
       "ascii": false,
       "bar_format": null,
       "colour": null,
       "elapsed": 0.023252010345458984,
       "initial": 0,
       "n": 0,
       "ncols": null,
       "nrows": 72,
       "postfix": null,
       "prefix": "Downloading https://raw.githubusercontent.com/stanfordnlp/stanza-resources/main/resources_1.6.0.json",
       "rate": null,
       "total": 45744,
       "unit": "B",
       "unit_divisor": 1000,
       "unit_scale": true
      },
      "application/vnd.jupyter.widget-view+json": {
       "model_id": "fa55411943e145ea98177524f01d4cde",
       "version_major": 2,
       "version_minor": 0
      },
      "text/plain": [
       "Downloading https://raw.githubusercontent.com/stanfordnlp/stanza-resources/main/resources_1.6.0.json:   0%|   …"
      ]
     },
     "metadata": {},
     "output_type": "display_data"
    },
    {
     "name": "stderr",
     "output_type": "stream",
     "text": [
      "2024-02-21 17:56:07 WARNING: Language de package default expects mwt, which has been added\n",
      "2024-02-21 17:56:08 INFO: Loading these models for language: de (German):\n",
      "==========================\n",
      "| Processor | Package    |\n",
      "--------------------------\n",
      "| tokenize  | gsd        |\n",
      "| mwt       | gsd        |\n",
      "| pos       | gsd_charlm |\n",
      "==========================\n",
      "\n",
      "2024-02-21 17:56:08 INFO: Using device: cpu\n",
      "2024-02-21 17:56:08 INFO: Loading: tokenize\n",
      "2024-02-21 17:56:08 INFO: Loading: mwt\n",
      "2024-02-21 17:56:08 INFO: Loading: pos\n",
      "2024-02-21 17:56:08 INFO: Done loading processors!\n"
     ]
    }
   ],
   "source": [
    "from dialect_perturbations import * "
   ]
  },
  {
   "cell_type": "code",
   "execution_count": 3,
   "id": "bf5e35a3-ca0a-4e69-a573-57288cd50aae",
   "metadata": {},
   "outputs": [
    {
     "name": "stdout",
     "output_type": "stream",
     "text": [
      "Die Schule vom Kind .\n"
     ]
    }
   ],
   "source": [
    "sentence = \"Die Schule des Kindes .\"\n",
    "tokens = sentence.split()\n",
    "tags = [\"O\"] * len(tokens)\n",
    "\n",
    "\n",
    "perturbed_tokens, perturbed_tags, perturbed = perturb_genitive_to_dative(tokens, tags)\n",
    "print(' '.join(perturbed_tokens))"
   ]
  },
  {
   "cell_type": "code",
   "execution_count": 4,
   "id": "bc49a178",
   "metadata": {},
   "outputs": [
    {
     "name": "stdout",
     "output_type": "stream",
     "text": [
      "Der Beruf von der alte Dame .\n"
     ]
    },
    {
     "name": "stderr",
     "output_type": "stream",
     "text": [
      "/Users/verena/Documents/dialect-ToD-robustness/DERBI/Tools.py:91: Warning: Provided tags were not found in labels scheme. Some features were set as default.\n",
      "Result features are \"Case=Acc|Declination=Strong|Degree=Pos|Gender=Fem|Number=Sing\". You can specify desired features if you wish.\n",
      "Labels scheme is available at: https://github.com/maxschmaltz/DERBI/blob/main/meta/LabelsScheme.json.\n",
      "  warnings.warn('Provided tags were not found in labels scheme. Some features were set as default.\\nResult features are \"' +\n"
     ]
    }
   ],
   "source": [
    "sentence = \"Der Beruf der alten Dame .\"\n",
    "tokens = sentence.split()\n",
    "tags = [\"O\"] * len(tokens)\n",
    "\n",
    "\n",
    "perturbed_tokens, perturbed_tags, perturbed = perturb_genitive_to_dative(tokens, tags)\n",
    "print(' '.join(perturbed_tokens))"
   ]
  },
  {
   "cell_type": "code",
   "execution_count": 5,
   "id": "94dc13a9",
   "metadata": {},
   "outputs": [
    {
     "name": "stdout",
     "output_type": "stream",
     "text": [
      "Der Beruf von ihrer junge Tochter .\n"
     ]
    }
   ],
   "source": [
    "sentence = \"Der Beruf ihrer jungen Tochter .\"\n",
    "tokens = sentence.split()\n",
    "tags = [\"O\"] * len(tokens)\n",
    "\n",
    "\n",
    "perturbed_tokens, perturbed_tags, perturbed = perturb_genitive_to_dative(tokens, tags)\n",
    "print(' '.join(perturbed_tokens))"
   ]
  },
  {
   "cell_type": "code",
   "execution_count": 4,
   "id": "375e9c9e-8657-48c8-8eea-8d1b80350238",
   "metadata": {},
   "outputs": [
    {
     "name": "stdout",
     "output_type": "stream",
     "text": [
      "Ruf Keira ihre Tochter an .\n"
     ]
    }
   ],
   "source": [
    "sentence = \"Ruf Keiras Tochter an .\"\n",
    "tokens = sentence.split()\n",
    "tags = [\"O\"] * len(tokens)\n",
    "tags[1] = 'B-person'\n",
    "\n",
    "\n",
    "perturbed_tokens, perturbed_tags, perturbed = perturb_possessive_genitive(tokens, tags)\n",
    "print(' '.join(perturbed_tokens))"
   ]
  },
  {
   "cell_type": "code",
   "execution_count": 5,
   "id": "3d379525-e665-4eb9-971a-192de753c2a5",
   "metadata": {},
   "outputs": [
    {
     "name": "stdout",
     "output_type": "stream",
     "text": [
      "Wie alt ist die Frau vom John Stamos ?\n"
     ]
    }
   ],
   "source": [
    "sentence = \"Wie alt ist die Frau von John Stamos ?\"\n",
    "tokens = sentence.split()\n",
    "tags = [\"O\"] * len(tokens)\n",
    "tags[-3] = 'B-person'\n",
    "\n",
    "\n",
    "\n",
    "perturbed_tokens, perturbed_tags, perturbed = perturb_article_before_personal_name(tokens, tags)\n",
    "print(' '.join(perturbed_tokens))"
   ]
  },
  {
   "cell_type": "code",
   "execution_count": 6,
   "id": "c3af512c-e9a8-44b5-87bf-e4a2b3d9e888",
   "metadata": {},
   "outputs": [
    {
     "name": "stdout",
     "output_type": "stream",
     "text": [
      "'Ich muss den Papa jetzt anrufen'.\n"
     ]
    }
   ],
   "source": [
    "sentence = \"'Ich muss Papa jetzt anrufen'.\"\n",
    "tokens = sentence.split()\n",
    "tags = [\"O\"] * len(tokens)\n",
    "tags[2] = 'B-person'\n",
    "\n",
    "perturbed_tokens, perturbed_tags, perturbed = perturb_article_before_personal_name(tokens, tags)\n",
    "print(' '.join(perturbed_tokens))"
   ]
  },
  {
   "cell_type": "code",
   "execution_count": 7,
   "id": "f7627b33-caa4-4f92-9399-17e3acdd0381",
   "metadata": {},
   "outputs": [
    {
     "name": "stdout",
     "output_type": "stream",
     "text": [
      "Hier ist der Urlaub oft deutlich günstiger wie in Deutschland .\n"
     ]
    }
   ],
   "source": [
    "sentence = \"Hier ist der Urlaub oft deutlich günstiger als in Deutschland .\"\n",
    "tokens = sentence.split()\n",
    "tags = [\"O\"] * len(tokens)\n",
    "\n",
    "\n",
    "perturbed_tokens, perturbed_tags, perturbed = perturb_als_in_comparative_constructions(tokens, tags)\n",
    "print(' '.join(perturbed_tokens))"
   ]
  },
  {
   "cell_type": "code",
   "execution_count": 8,
   "id": "9c9d7e0c-fbb2-4e93-a811-ace1c989bd90",
   "metadata": {
    "tags": []
   },
   "outputs": [
    {
     "name": "stdout",
     "output_type": "stream",
     "text": [
      "Unsere Gäste können es kaum glauben, dass aus einem so einem kleinen Samen ein so ein großer Baum wachsen kann .\n"
     ]
    }
   ],
   "source": [
    "sentence = \"Unsere Gäste können es kaum glauben, dass aus einem so kleinen Samen ein so großer Baum wachsen kann .\"\n",
    "tokens = sentence.split()\n",
    "tags = [\"O\"] * len(tokens)\n",
    "\n",
    "perturbed_tokens, perturbed_tags, perturbed = perturb_double_article(tokens, tags)\n",
    "print(' '.join(perturbed_tokens))"
   ]
  },
  {
   "cell_type": "code",
   "execution_count": 9,
   "id": "a8021c65-fc12-4512-ab0e-74a3e26f95c7",
   "metadata": {},
   "outputs": [
    {
     "name": "stdout",
     "output_type": "stream",
     "text": [
      "seit wann ist Musterfrau Anna hier .\n"
     ]
    }
   ],
   "source": [
    "sentence = \"seit wann ist Anna Musterfrau hier .\"\n",
    "tokens = sentence.split()\n",
    "tags = [\"O\"] * len(tokens)\n",
    "tags[3] = 'B-person'\n",
    "tags[4] = 'I-person'\n",
    "\n",
    "perturbed_tokens, perturbed_tags, perturbed = perturb_swap_name(tokens, tags)\n",
    "print(' '.join(perturbed_tokens))"
   ]
  },
  {
   "cell_type": "code",
   "execution_count": 10,
   "id": "02efe05e-829a-4ee7-b714-a5b47e4c4504",
   "metadata": {},
   "outputs": [
    {
     "name": "stdout",
     "output_type": "stream",
     "text": [
      "habe ich denn irgendwelche eingehenden emails ?\n"
     ]
    }
   ],
   "source": [
    "sentence = \"habe ich irgendwelche eingehenden emails ?\"\n",
    "tokens = sentence.split()\n",
    "tags = [\"O\"] * len(tokens)\n",
    "\n",
    "perturbed_tokens, perturbed_tags, perturbed = perturb_denn_in_questions(tokens, tags)\n",
    "print(' '.join(perturbed_tokens))"
   ]
  },
  {
   "cell_type": "code",
   "execution_count": 11,
   "id": "18613a51-5964-47b6-90c8-1760d11e513a",
   "metadata": {},
   "outputs": [
    {
     "name": "stdout",
     "output_type": "stream",
     "text": [
      "diese letzte email muss sofort werden beantwortet\n"
     ]
    }
   ],
   "source": [
    "sentence = \"diese letzte email muss sofort beantwortet werden\"\n",
    "tokens = sentence.split()\n",
    "tags = [\"O\"] * len(tokens)\n",
    "\n",
    "perturbed_tokens, perturbed_tags, perturbed = perturb_2_verb_clusters(tokens, tags)\n",
    "print(' '.join(perturbed_tokens))"
   ]
  },
  {
   "cell_type": "code",
   "execution_count": 12,
   "id": "bdb291d4-e0d6-413c-93c4-deb499a9b94c",
   "metadata": {},
   "outputs": [
    {
     "name": "stdout",
     "output_type": "stream",
     "text": [
      "Ich bin am essen .\n"
     ]
    }
   ],
   "source": [
    "sentence = \"Ich esse .\"\n",
    "tokens = sentence.split()\n",
    "tags = [\"O\"] * len(tokens)\n",
    "\n",
    "perturbed_tokens, perturbed_tags, perturbed = perturb_am_infinitive(tokens, tags)\n",
    "print(' '.join(perturbed_tokens))"
   ]
  },
  {
   "cell_type": "code",
   "execution_count": 13,
   "id": "613293a5-4baf-4cf6-b78c-2138184e6820",
   "metadata": {},
   "outputs": [
    {
     "name": "stdout",
     "output_type": "stream",
     "text": [
      "da weiß ich nichts von .\n"
     ]
    }
   ],
   "source": [
    "sentence = \"Davon weiß ich nichts .\"\n",
    "tokens = sentence.split()\n",
    "tags = [\"O\"] * len(tokens)\n",
    "\n",
    "perturbed_tokens, perturbed_tags, perturbed = perturb_da(tokens, tags)\n",
    "print(' '.join(perturbed_tokens))"
   ]
  },
  {
   "cell_type": "code",
   "execution_count": 14,
   "id": "e24e0e57-b929-48ba-84a4-ece1f669cfeb",
   "metadata": {},
   "outputs": [
    {
     "name": "stdout",
     "output_type": "stream",
     "text": [
      "Auf der Suche nach günstigen Bahntickets auf München? .\n"
     ]
    }
   ],
   "source": [
    "sentence = \"Auf der Suche nach günstigen Bahntickets nach München? .\"\n",
    "tokens = sentence.split()\n",
    "tags = [\"O\"] * len(tokens)\n",
    "\n",
    "perturbed_tokens, perturbed_tags, perturbed = perturb_nach(tokens, tags)\n",
    "print(' '.join(perturbed_tokens))"
   ]
  },
  {
   "cell_type": "code",
   "execution_count": 15,
   "id": "634b5637-597e-47ce-9b3d-261e26004f5d",
   "metadata": {},
   "outputs": [
    {
     "name": "stdout",
     "output_type": "stream",
     "text": [
      "Willkommen zu München .\n"
     ]
    }
   ],
   "source": [
    "sentence = \"Willkommen in München .\"\n",
    "tokens = sentence.split()\n",
    "tags = [\"O\"] * len(tokens)\n",
    "\n",
    "perturbed_tokens, perturbed_tags, perturbed = perturb_in(tokens, tags)\n",
    "print(' '.join(perturbed_tokens))"
   ]
  },
  {
   "cell_type": "code",
   "execution_count": 16,
   "id": "c38122f2-95d0-46f5-89f7-15f8ada6d8fa",
   "metadata": {},
   "outputs": [
    {
     "name": "stdout",
     "output_type": "stream",
     "text": [
      "Es gibt keine Person nicht auf der Welt, die nein zu Ihnen sagen kann .\n",
      "['O', 'O', 'O', 'B-Per', 'O', 'O', 'O', 'O', 'O', 'O', 'O', 'O', 'O', 'O', 'O']\n"
     ]
    }
   ],
   "source": [
    "sentence = \"Es gibt keine Person auf der Welt, die nein zu Ihnen sagen kann .\" \n",
    "tokens = sentence.split()\n",
    "tags = [\"O\"] * len(tokens)\n",
    "tags[3] = \"B-Per\"\n",
    "\n",
    "perturbed_tokens, perturbed_tags, perturbed = perturb_negative_concord(tokens, tags)\n",
    "print(' '.join(perturbed_tokens))\n",
    "print(perturbed_tags)"
   ]
  },
  {
   "cell_type": "code",
   "execution_count": 17,
   "id": "71166be6-8969-4987-abc5-25538215fb1f",
   "metadata": {},
   "outputs": [
    {
     "name": "stdout",
     "output_type": "stream",
     "text": [
      "Der Stern , wo leuchtet , der Stern , wo funkelt , so wird's seit ewiger Zeit schon gemunkelt .\n"
     ]
    }
   ],
   "source": [
    "sentence = \"Der Stern , der leuchtet , der Stern , der funkelt , so wird's seit ewiger Zeit schon gemunkelt .\"\n",
    "tokens = sentence.split()\n",
    "tags = [\"O\"] * len(tokens)\n",
    "\n",
    "perturbed_tokens, perturbed_tags, perturbed = perturb_relative_pronoun(tokens, tags)\n",
    "print(' '.join(perturbed_tokens))"
   ]
  },
  {
   "cell_type": "code",
   "execution_count": 18,
   "id": "d6521abf-4112-4ff6-8cdb-cd0d2ef29f2c",
   "metadata": {},
   "outputs": [
    {
     "name": "stdout",
     "output_type": "stream",
     "text": [
      "Es hat noch Brot .\n"
     ]
    }
   ],
   "source": [
    "sentence = \"Es gibt noch Brot .\"\n",
    "tokens = sentence.split()\n",
    "tags = [\"O\"] * len(tokens)\n",
    "\n",
    "perturbed_tokens, perturbed_tags, perturbed = perturb_existential_clause(tokens, tags)\n",
    "print(' '.join(perturbed_tokens))"
   ]
  },
  {
   "cell_type": "code",
   "execution_count": 19,
   "id": "f0ae165a-3e16-41c9-b1ca-40534455e332",
   "metadata": {},
   "outputs": [
    {
     "name": "stdout",
     "output_type": "stream",
     "text": [
      "Gibt's noch Brot ?\n"
     ]
    }
   ],
   "source": [
    "sentence = \"Gibt es noch Brot ?\"\n",
    "tokens = sentence.split()\n",
    "tags = [\"O\"] * len(tokens)\n",
    "\n",
    "perturbed_tokens, perturbed_tags, perturbed = perturb_contracted_verb_and_pronoun(tokens, tags)\n",
    "print(' '.join(perturbed_tokens))"
   ]
  },
  {
   "cell_type": "code",
   "execution_count": 20,
   "id": "8ad60660-8bb9-4fa6-a4da-eb2a0e262152",
   "metadata": {},
   "outputs": [
    {
     "name": "stdout",
     "output_type": "stream",
     "text": [
      "Ich hab\n"
     ]
    }
   ],
   "source": [
    "sentence = \"Ich habe\"\n",
    "tokens = sentence.split()\n",
    "tags = [\"O\"] * len(tokens)\n",
    "\n",
    "perturbed_tokens, perturbed_tags, perturbed = perturb_schwa_elision_in_verbs(tokens, tags)\n",
    "print(' '.join(perturbed_tokens))"
   ]
  },
  {
   "cell_type": "code",
   "execution_count": 21,
   "id": "98bf6cc6-6b96-407f-9d43-9957f2b3b166",
   "metadata": {},
   "outputs": [
    {
     "name": "stdout",
     "output_type": "stream",
     "text": [
      "Tu mich an notwendige veranstaltungen erinnern\n"
     ]
    }
   ],
   "source": [
    "sentence = \"erinnere mich an notwendige veranstaltungen\"\n",
    "tokens = sentence.split()\n",
    "tags = [\"O\"] * len(tokens)\n",
    "\n",
    "\n",
    "perturbed_tokens, perturbed_tags, perturbed = perturb_tun_imperativ(tokens, tags)\n",
    "print(' '.join(perturbed_tokens))"
   ]
  }
 ],
 "metadata": {
  "kernelspec": {
   "display_name": "Python 3 (ipykernel)",
   "language": "python",
   "name": "python3"
  },
  "language_info": {
   "codemirror_mode": {
    "name": "ipython",
    "version": 3
   },
   "file_extension": ".py",
   "mimetype": "text/x-python",
   "name": "python",
   "nbconvert_exporter": "python",
   "pygments_lexer": "ipython3",
   "version": "3.9.18"
  }
 },
 "nbformat": 4,
 "nbformat_minor": 5
}
