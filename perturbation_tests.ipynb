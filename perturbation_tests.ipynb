{
 "cells": [
  {
   "cell_type": "code",
   "execution_count": null,
   "id": "fb2fece9-22f6-4a7d-ab62-44152bdedbb2",
   "metadata": {},
   "outputs": [],
   "source": [
    "import pandas as pd\n",
    "import string\n",
    "import json\n",
    "import re\n",
    "import random\n",
    "import os"
   ]
  },
  {
   "cell_type": "code",
   "execution_count": null,
   "id": "728183b5",
   "metadata": {},
   "outputs": [],
   "source": [
    "!rm -rf CharSplit"
   ]
  },
  {
   "cell_type": "code",
   "execution_count": null,
   "id": "467af3b6-8a2a-4eb5-9667-1142e5a035bc",
   "metadata": {},
   "outputs": [],
   "source": [
    "from dialect_perturbations import * "
   ]
  },
  {
   "cell_type": "code",
   "execution_count": null,
   "id": "bf5e35a3-ca0a-4e69-a573-57288cd50aae",
   "metadata": {},
   "outputs": [],
   "source": [
    "sentence = \"Der Beruf des alten Mannes .\"\n",
    "tokens = sentence.split()\n",
    "tags = [\"O\"] * len(tokens)\n",
    "\n",
    "\n",
    "perturbed_tokens, perturbed_tags, perturbed = perturb_genitive_to_dativ(tokens, tags)\n",
    "print(' '.join(perturbed_tokens))"
   ]
  },
  {
   "cell_type": "code",
   "execution_count": null,
   "id": "375e9c9e-8657-48c8-8eea-8d1b80350238",
   "metadata": {},
   "outputs": [],
   "source": [
    "sentence = \"Ruf Keiras Tochter an .\"\n",
    "tokens = sentence.split()\n",
    "tags = [\"O\"] * len(tokens)\n",
    "tags[1] = 'B-person'\n",
    "\n",
    "\n",
    "perturbed_tokens, perturbed_tags, perturbed = perturb_possesive_genitive(tokens, tags)\n",
    "print(' '.join(perturbed_tokens))"
   ]
  },
  {
   "cell_type": "code",
   "execution_count": null,
   "id": "3d379525-e665-4eb9-971a-192de753c2a5",
   "metadata": {},
   "outputs": [],
   "source": [
    "sentence = \"Wie alt ist die Frau von John Stamos ?\"\n",
    "tokens = sentence.split()\n",
    "tags = [\"O\"] * len(tokens)\n",
    "tags[-3] = 'B-person'\n",
    "\n",
    "\n",
    "\n",
    "perturbed_tokens, perturbed_tags, perturbed = perturb_article_before_personal_name(tokens, tags)\n",
    "print(' '.join(perturbed_tokens))"
   ]
  },
  {
   "cell_type": "code",
   "execution_count": null,
   "id": "c3af512c-e9a8-44b5-87bf-e4a2b3d9e888",
   "metadata": {},
   "outputs": [],
   "source": [
    "sentence = \"'Ich muss Papa jetzt anrufen'.\"\n",
    "tokens = sentence.split()\n",
    "tags = [\"O\"] * len(tokens)\n",
    "tags[2] = 'B-person'\n",
    "\n",
    "perturbed_tokens, perturbed_tags, perturbed = perturb_article_before_personal_name(tokens, tags)\n",
    "print(' '.join(perturbed_tokens))"
   ]
  },
  {
   "cell_type": "code",
   "execution_count": null,
   "id": "f7627b33-caa4-4f92-9399-17e3acdd0381",
   "metadata": {},
   "outputs": [],
   "source": [
    "sentence = \"Hier ist der Urlaub oft deutlich günstiger als in Deutschland .\"\n",
    "tokens = sentence.split()\n",
    "tags = [\"O\"] * len(tokens)\n",
    "\n",
    "\n",
    "perturbed_tokens, perturbed_tags, perturbed = perturb_als_in_comparative_constructions(tokens, tags)\n",
    "print(' '.join(perturbed_tokens))"
   ]
  },
  {
   "cell_type": "code",
   "execution_count": null,
   "id": "9c9d7e0c-fbb2-4e93-a811-ace1c989bd90",
   "metadata": {
    "tags": []
   },
   "outputs": [],
   "source": [
    "sentence = \"Unsere Gäste können es kaum glauben, dass aus einem so kleinen Samen ein so großer Baum wachsen kann .\"\n",
    "tokens = sentence.split()\n",
    "tags = [\"O\"] * len(tokens)\n",
    "\n",
    "perturbed_tokens, perturbed_tags, perturbed = perturb_double_article(tokens, tags)\n",
    "print(' '.join(perturbed_tokens))"
   ]
  },
  {
   "cell_type": "code",
   "execution_count": null,
   "id": "a8021c65-fc12-4512-ab0e-74a3e26f95c7",
   "metadata": {},
   "outputs": [],
   "source": [
    "sentence = \"seit wann ist Anna Musterfrau hier .\"\n",
    "tokens = sentence.split()\n",
    "tags = [\"O\"] * len(tokens)\n",
    "tags[3] = 'B-person'\n",
    "tags[4] = 'I-person'\n",
    "\n",
    "perturbed_tokens, perturbed_tags, perturbed = perturb_swap_name(tokens, tags)\n",
    "print(' '.join(perturbed_tokens))"
   ]
  },
  {
   "cell_type": "code",
   "execution_count": null,
   "id": "02efe05e-829a-4ee7-b714-a5b47e4c4504",
   "metadata": {},
   "outputs": [],
   "source": [
    "sentence = \"habe ich irgendwelche eingehenden emails ?\"\n",
    "tokens = sentence.split()\n",
    "tags = [\"O\"] * len(tokens)\n",
    "\n",
    "perturbed_tokens, perturbed_tags, perturbed = perturb_denn_in_questions(tokens, tags)\n",
    "print(' '.join(perturbed_tokens))"
   ]
  },
  {
   "cell_type": "code",
   "execution_count": null,
   "id": "18613a51-5964-47b6-90c8-1760d11e513a",
   "metadata": {},
   "outputs": [],
   "source": [
    "sentence = \"diese letzte email muss sofort beantwortet werden\"\n",
    "tokens = sentence.split()\n",
    "tags = [\"O\"] * len(tokens)\n",
    "\n",
    "perturbed_tokens, perturbed_tags, perturbed = perturb_2_verb_clusters(tokens, tags)\n",
    "print(' '.join(perturbed_tokens))"
   ]
  },
  {
   "cell_type": "code",
   "execution_count": null,
   "id": "bdb291d4-e0d6-413c-93c4-deb499a9b94c",
   "metadata": {},
   "outputs": [],
   "source": [
    "sentence = \"Ich esse .\"\n",
    "tokens = sentence.split()\n",
    "tags = [\"O\"] * len(tokens)\n",
    "\n",
    "perturbed_tokens, perturbed_tags, perturbed = perturb_am_infinitive(tokens, tags)\n",
    "print(' '.join(perturbed_tokens))"
   ]
  },
  {
   "cell_type": "code",
   "execution_count": null,
   "id": "613293a5-4baf-4cf6-b78c-2138184e6820",
   "metadata": {},
   "outputs": [],
   "source": [
    "sentence = \"Davon weiß ich nichts .\"\n",
    "tokens = sentence.split()\n",
    "tags = [\"O\"] * len(tokens)\n",
    "\n",
    "perturbed_tokens, perturbed_tags, perturbed = perturb_da(tokens, tags)\n",
    "print(' '.join(perturbed_tokens))"
   ]
  },
  {
   "cell_type": "code",
   "execution_count": null,
   "id": "e24e0e57-b929-48ba-84a4-ece1f669cfeb",
   "metadata": {},
   "outputs": [],
   "source": [
    "sentence = \"Auf der Suche nach günstigen Bahntickets nach München? .\"\n",
    "tokens = sentence.split()\n",
    "tags = [\"O\"] * len(tokens)\n",
    "\n",
    "perturbed_tokens, perturbed_tags, perturbed = perturb_nach(tokens, tags)\n",
    "print(' '.join(perturbed_tokens))"
   ]
  },
  {
   "cell_type": "code",
   "execution_count": null,
   "id": "634b5637-597e-47ce-9b3d-261e26004f5d",
   "metadata": {},
   "outputs": [],
   "source": [
    "sentence = \"Willkommen in München .\"\n",
    "tokens = sentence.split()\n",
    "tags = [\"O\"] * len(tokens)\n",
    "\n",
    "perturbed_tokens, perturbed_tags, perturbed = perturb_in(tokens, tags)\n",
    "print(' '.join(perturbed_tokens))"
   ]
  },
  {
   "cell_type": "code",
   "execution_count": null,
   "id": "c38122f2-95d0-46f5-89f7-15f8ada6d8fa",
   "metadata": {},
   "outputs": [],
   "source": [
    "sentence = \"Es gibt keine Person auf der Welt, die nein zu Ihnen sagen kann .\" \n",
    "tokens = sentence.split()\n",
    "tags = [\"O\"] * len(tokens)\n",
    "tags[3] = \"B-Per\"\n",
    "\n",
    "perturbed_tokens, perturbed_tags, perturbed = perturb_negative_concord(tokens, tags)\n",
    "print(' '.join(perturbed_tokens))\n",
    "print(perturbed_tags)"
   ]
  },
  {
   "cell_type": "code",
   "execution_count": null,
   "id": "71166be6-8969-4987-abc5-25538215fb1f",
   "metadata": {},
   "outputs": [],
   "source": [
    "sentence = \"Der Stern , der leuchtet , der Stern , der funkelt , so wird's seit ewiger Zeit schon gemunkelt .\"\n",
    "tokens = sentence.split()\n",
    "tags = [\"O\"] * len(tokens)\n",
    "\n",
    "perturbed_tokens, perturbed_tags, perturbed = perturb_relative_pronoun(tokens, tags)\n",
    "print(' '.join(perturbed_tokens))"
   ]
  },
  {
   "cell_type": "code",
   "execution_count": null,
   "id": "d6521abf-4112-4ff6-8cdb-cd0d2ef29f2c",
   "metadata": {},
   "outputs": [],
   "source": [
    "sentence = \"Es gibt noch Brot .\"\n",
    "tokens = sentence.split()\n",
    "tags = [\"O\"] * len(tokens)\n",
    "\n",
    "perturbed_tokens, perturbed_tags, perturbed = perturb_existential_clause(tokens, tags)\n",
    "print(' '.join(perturbed_tokens))"
   ]
  },
  {
   "cell_type": "code",
   "execution_count": null,
   "id": "f0ae165a-3e16-41c9-b1ca-40534455e332",
   "metadata": {},
   "outputs": [],
   "source": [
    "sentence = \"Gibt es noch Brot ?\"\n",
    "tokens = sentence.split()\n",
    "tags = [\"O\"] * len(tokens)\n",
    "\n",
    "perturbed_tokens, perturbed_tags, perturbed = perturb_contracted_verb_and_pronoun(tokens, tags)\n",
    "print(' '.join(perturbed_tokens))"
   ]
  },
  {
   "cell_type": "code",
   "execution_count": null,
   "id": "8ad60660-8bb9-4fa6-a4da-eb2a0e262152",
   "metadata": {},
   "outputs": [],
   "source": [
    "sentence = \"Ich habe\"\n",
    "tokens = sentence.split()\n",
    "tags = [\"O\"] * len(tokens)\n",
    "\n",
    "perturbed_tokens, perturbed_tags, perturbed = perturb_schwa_elision_in_verbs(tokens, tags)\n",
    "print(' '.join(perturbed_tokens))"
   ]
  },
  {
   "cell_type": "code",
   "execution_count": null,
   "id": "98bf6cc6-6b96-407f-9d43-9957f2b3b166",
   "metadata": {},
   "outputs": [],
   "source": [
    "sentence = \"erinnere mich an notwendige veranstaltungen\"\n",
    "tokens = sentence.split()\n",
    "tags = [\"O\"] * len(tokens)\n",
    "\n",
    "\n",
    "perturbed_tokens, perturbed_tags, perturbed = perturb_tun_imperativ(tokens, tags)\n",
    "print(' '.join(perturbed_tokens))"
   ]
  }
 ],
 "metadata": {
  "kernelspec": {
   "display_name": "Python 3 (ipykernel)",
   "language": "python",
   "name": "python3"
  },
  "language_info": {
   "codemirror_mode": {
    "name": "ipython",
    "version": 3
   },
   "file_extension": ".py",
   "mimetype": "text/x-python",
   "name": "python",
   "nbconvert_exporter": "python",
   "pygments_lexer": "ipython3",
   "version": "3.9.18"
  }
 },
 "nbformat": 4,
 "nbformat_minor": 5
}
